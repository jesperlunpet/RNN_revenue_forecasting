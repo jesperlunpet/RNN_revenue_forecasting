{
 "cells": [
  {
   "cell_type": "markdown",
   "metadata": {},
   "source": [
    "# Forecasting company key numbers from public data"
   ]
  },
  {
   "cell_type": "markdown",
   "metadata": {},
   "source": [
    "## Device configuration and import of libaries used"
   ]
  },
  {
   "cell_type": "code",
   "execution_count": 1,
   "metadata": {},
   "outputs": [],
   "source": [
    "import requests\n",
    "import json\n",
    "import csv\n",
    "import re\n",
    "from datetime import datetime, timedelta\n",
    "import os.path\n",
    "import operator\n",
    "import xml.etree.ElementTree as et\n",
    "from dateutil.relativedelta import relativedelta\n",
    "import torch\n",
    "import torch.nn as nn\n",
    "import torch.nn.functional as F\n",
    "from torch.autograd import Variable\n",
    "import numpy as np\n",
    "import torch.optim as optim\n",
    "import matplotlib.pyplot as plt\n",
    "\n",
    "device = torch.device('cuda' if torch.cuda.is_available() else 'cpu')"
   ]
  },
  {
   "cell_type": "markdown",
   "metadata": {},
   "source": [
    "## CVR downloader\n",
    "\n",
    "The dataset can be extracted initially by downloaded annual reports from various companies. The following script will download annual reports from each day and save it to a file. "
   ]
  },
  {
   "cell_type": "code",
   "execution_count": 2,
   "metadata": {},
   "outputs": [],
   "source": [
    "if not os.path.isfile('reports.csv'):\n",
    "    now = datetime.now()\n",
    "    date = datetime.strptime('2013-03-03', '%Y-%m-%d')\n",
    "\n",
    "    with open('reports.csv', 'w', newline='') as csvfile:\n",
    "        csvwriter = csv.writer(csvfile, delimiter=',', quotechar='\"', quoting=csv.QUOTE_MINIMAL)\n",
    "        csvwriter.writerow(['cvrNummer','annualReport'])\n",
    "        while date < now:\n",
    "            nextdate = (date + timedelta(days=1))\n",
    "\n",
    "            if date.year < nextdate.year:\n",
    "                print(nextdate.year)\n",
    "\n",
    "            url = 'http://distribution.virk.dk/offentliggoerelser/_search'\n",
    "            payload = '{\"query\": {\"bool\": {\"must\": [{\"range\": {\"offentliggoerelsesTidspunkt\": {\"gt\": \"' + str(date.strftime('%Y-%m-%d')) + 'T00:00:00.001Z\",\"lt\": \"' + str(nextdate.strftime('%Y-%m-%d')) + 'T23:59:59.505Z\"}}},{\"term\": {\"dokumenter.dokumentMimeType\": \"xml\"}}]}},\"sort\": [{\"regnskab.regnskabsperiode.startDato\": {\"order\": \"asc\"}}],\"size\": 2999}'\n",
    "            headers = {'Content-Type': 'application/json'}\n",
    "            r = requests.post(url, data=payload, headers=headers)\n",
    "\n",
    "            parsed_json = json.loads(r.content)\n",
    "\n",
    "            for i in parsed_json['hits']['hits']:  \n",
    "                for j in i['_source']['dokumenter']:\n",
    "                    # This check may be redundant\n",
    "                    if (re.search('.xml', j['dokumentUrl'])):\n",
    "                        csvwriter.writerow([i['_source']['cvrNummer'],re.search(\".xml\",j['dokumentUrl']).string])\n",
    "                        break\n",
    "\n",
    "            # if (parsed_json['hits']['total'] > 2999):\n",
    "                # print(parsed_json['hits']['total'])\n",
    "            date = nextdate\n",
    "            # if (parsed_json['hits']['total'] == 0):\n",
    "                # print(parsed_json['hits']['total'])"
   ]
  },
  {
   "cell_type": "markdown",
   "metadata": {},
   "source": [
    "## Crawling through the reports\n",
    "\n",
    "As the previous retrieved dataset only contains the identifier of the company (CVR) and the URL for the annual reports, a crawler therefore needs to be used to extract the data from each anual reports and append it to a new file. This crawler sorts the entire file and extracts 21 key numbers from the reports of each company. If a year is omitted the entire history of the company is rendered useless and therefore skipped. This process is extremely slow."
   ]
  },
  {
   "cell_type": "code",
   "execution_count": 3,
   "metadata": {},
   "outputs": [],
   "source": [
    "# WARNING: slow crawler\n",
    "if not os.path.isfile('data.csv'):\n",
    "    data = csv.reader(open('reports.csv'), delimiter=',')\n",
    "    next(data)\n",
    "\n",
    "    keyFiguresInput = ['{http://xbrl.dcca.dk/gsd}ReportingPeriodStartDate','{http://xbrl.dcca.dk/fsa}Revenue','{http://xbrl.dcca.dk/fsa}CostOfSales','{http://xbrl.dcca.dk/fsa}ExternalExpenses','{http://xbrl.dcca.dk/fsa}AdministrativeExpenses','{http://xbrl.dcca.dk/fsa}GrossResult','{http://xbrl.dcca.dk/fsa}ProfitLossFromOrdinaryOperatingActivities','{http://xbrl.dcca.dk/fsa}ProfitLossFromOrdinaryActivitiesBeforeTax','{http://xbrl.dcca.dk/fsa}ProfitLoss','{http://xbrl.dcca.dk/fsa}OtherShorttermReceivables','{http://xbrl.dcca.dk/fsa}ShorttermReceivables','{http://xbrl.dcca.dk/fsa}CashAndCashEquivalents','{http://xbrl.dcca.dk/fsa}CurrentAssets','{http://xbrl.dcca.dk/fsa}Assets','{http://xbrl.dcca.dk/fsa}ContributedCapital','{http://xbrl.dcca.dk/fsa}OtherReserves','{http://xbrl.dcca.dk/fsa}RetainedEarnings','{http://xbrl.dcca.dk/fsa}Equity','{http://xbrl.dcca.dk/fsa}OtherShorttermPayables','{http://xbrl.dcca.dk/fsa}ShorttermLiabilitiesOtherThanProvisions','{http://xbrl.dcca.dk/fsa}LiabilitiesOtherThanProvisions','{http://xbrl.dcca.dk/fsa}LiabilitiesAndEquity']\n",
    "\n",
    "    fieldnames = ['Revenue','CostOfSales','ExternalExpenses','AdministrativeExpenses','GrossResult','ProfitLossFromOrdinaryOperatingActivities','ProfitLossFromOrdinaryActivitiesBeforeTax','ProfitLoss','OtherShorttermReceivables','ShorttermReceivables','CashAndCashEquivalents','CurrentAssets','Assets','ContributedCapital','OtherReserves','RetainedEarnings','Equity','OtherShorttermPayables','ShorttermLiabilitiesOtherThanProvisions','LiabilitiesOtherThanProvisions','LiabilitiesAndEquity']\n",
    "\n",
    "    reports = {}\n",
    "    second = 0\n",
    "\n",
    "    for i in data:\n",
    "        if (second % 2 == 0):\n",
    "            reports.setdefault(i[0], set([])).add(i[1])\n",
    "        second = 1+second\n",
    "\n",
    "    counter = 0\n",
    "\n",
    "    csvwriter = csv.writer(open('data.csv', 'w', newline=''), delimiter=',', quotechar='\"', quoting=csv.QUOTE_MINIMAL)\n",
    "    for key in reports:\n",
    "        if (counter > 0):\n",
    "            reportcontents = []\n",
    "            for report in reports[key]:\n",
    "                root = et.fromstring(requests.get(report).content)\n",
    "                reportcontent = [None] * len(keyFiguresInput)\n",
    "                for child in root:\n",
    "                    if child.tag in keyFiguresInput:\n",
    "                        reportcontent[keyFiguresInput.index(child.tag)] = child.text\n",
    "                reportcontents.append(reportcontent)\n",
    "            sortedlist = sorted(reportcontents, key = lambda x: x[0])\n",
    "            datechecker = iter(sortedlist)\n",
    "            d1 = datetime.strptime(next(datechecker)[0], \"%Y-%m-%d\")\n",
    "            include = True\n",
    "            for report in datechecker:\n",
    "                d2 = datetime.strptime(report[0], \"%Y-%m-%d\")\n",
    "                if (relativedelta(d2, d1).years > 1):\n",
    "                    include = False\n",
    "                    break\n",
    "                d1 = d2\n",
    "            if include:\n",
    "                csvwriter.writerow([item for sublist in sortedlist for item in sublist])\n",
    "        counter = counter + 1\n",
    "        if (counter % 500 == 0):\n",
    "            print(counter)\n",
    "\n",
    "    # with open('test.csv', 'w', newline='') as csvfile:\n",
    "    #     csvwriter = csv.writer(csvfile, delimiter=',', quotechar='\"', quoting=csv.QUOTE_MINIMAL)\n",
    "    #     for report in reports:\n",
    "    #         csvwriter.writerow(reduce(lambda x,y :x+y ,sorted(reports[report], key=lambda x: x[0])))    "
   ]
  },
  {
   "cell_type": "markdown",
   "metadata": {},
   "source": [
    "## Data preparation\n",
    "\n",
    "The dataset is not sorted by annual reports for each company saved in batches. Each batch needs normalization and identifiers for missing values as the missing values and 0 are used interchangeably. The steps are explained in the report. Initially the data should be shuffled as the previous dataset is sorted by CVR, which may have a hidden pattern that we don't want in our model."
   ]
  },
  {
   "cell_type": "code",
   "execution_count": 4,
   "metadata": {},
   "outputs": [],
   "source": [
    "! shuf -o shuffled_data.csv < data.csv"
   ]
  },
  {
   "cell_type": "code",
   "execution_count": 2,
   "metadata": {},
   "outputs": [
    {
     "name": "stderr",
     "output_type": "stream",
     "text": [
      "<ipython-input-2-bc2f6a8c1953>:37: RuntimeWarning: invalid value encountered in true_divide\n",
      "  dataset /= np.std(dataset, axis = 0)\n"
     ]
    },
    {
     "name": "stdout",
     "output_type": "stream",
     "text": [
      "52421\n",
      "6553\n",
      "6552\n"
     ]
    }
   ],
   "source": [
    "csv = csv.reader(open('shuffled_data.csv'), delimiter=',')\n",
    "\n",
    "features = 16\n",
    "\n",
    "data = []\n",
    "for i in csv:\n",
    "    # Remove date as we don't want date to influence training\n",
    "    for j in range(int(len(i)/22)):\n",
    "        del i[(j*17)-j:((j*17)-j+5)]\n",
    "        del i[(j*10)-j]\n",
    "        # del i[(j*22)-j]\n",
    "    # Append identifier list for missing data\n",
    "\n",
    "    conv1 = lambda i: i != \"\" or False\n",
    "    identifier = ([conv1(j) for j in i])\n",
    "\n",
    "    # Convert list to list of integers\n",
    "    conv2 = lambda i: i or 0\n",
    "    i = [conv2(j) for j in i]\n",
    "    i = list(map(float, i))\n",
    "\n",
    "    # Convert 1d to 2d array with 16 columns\n",
    "    i = [i[j:j+features] for j in range(0, len(i), features)]\n",
    "    identifier = [identifier[j:j+features] for j in range(0, len(identifier), features)]\n",
    "\n",
    "    dataset = np.asarray(i)\n",
    "\n",
    "    # Remove too small data samples\n",
    "    if (dataset.ndim == 1 or len(dataset) < 3 or len(dataset) > 8):\n",
    "        continue\n",
    "    dataset = dataset[:,0:features]\n",
    "\n",
    "    # Normalization\n",
    "    dataset -= np.mean(dataset, axis = 0)\n",
    "    dataset /= np.std(dataset, axis = 0)\n",
    "    # As division of 0 results in NaN, it is replaced by 0.\n",
    "    # This occurs when the sequence of one feature is always 0.\n",
    "    dataset[np.isnan(dataset)] = 0.0\n",
    "\n",
    "    # dataset = np.concatenate((dataset, np.asarray(identifier)), axis=1)\n",
    "\n",
    "    data.append(dataset)\n",
    "\n",
    "training = data[:int(len(data)*0.8)]\n",
    "validation = data[-int(len(data)*0.2):-int(len(data)*0.1)]\n",
    "testing = data[-int(len(data)*0.1):]\n",
    "\n",
    "print(len(training))\n",
    "print(len(validation))\n",
    "print(len(testing))"
   ]
  },
  {
   "cell_type": "code",
   "execution_count": 11,
   "metadata": {},
   "outputs": [
    {
     "name": "stdout",
     "output_type": "stream",
     "text": [
      "Net(\n",
      "  (lstm): LSTM(16, 50, num_layers=2, batch_first=True)\n",
      "  (l_out): Linear(in_features=50, out_features=16, bias=False)\n",
      ")\n"
     ]
    }
   ],
   "source": [
    "in_features = features\n",
    "hidden_dim = 50\n",
    "out_features = features\n",
    "n_layers = 2\n",
    "\n",
    "class Net(nn.Module):\n",
    "    def __init__(self):\n",
    "        super(Net, self).__init__()\n",
    "        \n",
    "        self.lstm = nn.LSTM(in_features, hidden_dim, num_layers = n_layers, batch_first = True)\n",
    "        # self.gru = nn.GRU(in_features, hidden_dim, num_layers = n_layers, batch_first = True)\n",
    "        self.l_out = nn.Linear(in_features = hidden_dim, out_features = out_features, bias = False)\n",
    " \n",
    "    def forward(self, x):\n",
    "        h0 = torch.zeros(n_layers, 1, hidden_dim).to(device)\n",
    "        c0 = torch.zeros(n_layers, 1, hidden_dim).to(device)\n",
    "        x, _ = self.lstm(x, (h0,c0))\n",
    "        # x, _ = self.gru(x, h0)\n",
    "        x = x.view(-1, hidden_dim)\n",
    "        x = self.l_out(x)\n",
    "        return x[-1]\n",
    "\n",
    "net = Net().to(device)\n",
    "print(net)"
   ]
  },
  {
   "cell_type": "markdown",
   "metadata": {},
   "source": [
    "## Training and validation\n",
    "\n",
    "The model is trained with Mean Square Error Loss as we're dealing with regression, few features and the numerical difference between the values are small due to normalization. Additionally the accuracy is included with a threshold of both 5 % and 10 % to show how well it is predicting. "
   ]
  },
  {
   "cell_type": "code",
   "execution_count": 15,
   "metadata": {},
   "outputs": [
    {
     "ename": "KeyboardInterrupt",
     "evalue": "",
     "output_type": "error",
     "traceback": [
      "\u001b[0;31m---------------------------------------------------------------------------\u001b[0m",
      "\u001b[0;31mKeyboardInterrupt\u001b[0m                         Traceback (most recent call last)",
      "\u001b[0;32m<ipython-input-15-a3f7d549c77e>\u001b[0m in \u001b[0;36m<module>\u001b[0;34m\u001b[0m\n\u001b[1;32m     54\u001b[0m \u001b[0;34m\u001b[0m\u001b[0m\n\u001b[1;32m     55\u001b[0m         \u001b[0moptimizer\u001b[0m\u001b[0;34m.\u001b[0m\u001b[0mzero_grad\u001b[0m\u001b[0;34m(\u001b[0m\u001b[0;34m)\u001b[0m\u001b[0;34m\u001b[0m\u001b[0;34m\u001b[0m\u001b[0m\n\u001b[0;32m---> 56\u001b[0;31m         \u001b[0mloss\u001b[0m\u001b[0;34m.\u001b[0m\u001b[0mbackward\u001b[0m\u001b[0;34m(\u001b[0m\u001b[0;34m)\u001b[0m\u001b[0;34m\u001b[0m\u001b[0;34m\u001b[0m\u001b[0m\n\u001b[0m\u001b[1;32m     57\u001b[0m         \u001b[0moptimizer\u001b[0m\u001b[0;34m.\u001b[0m\u001b[0mstep\u001b[0m\u001b[0;34m(\u001b[0m\u001b[0;34m)\u001b[0m\u001b[0;34m\u001b[0m\u001b[0;34m\u001b[0m\u001b[0m\n\u001b[1;32m     58\u001b[0m \u001b[0;34m\u001b[0m\u001b[0m\n",
      "\u001b[0;32m~/.local/lib/python3.8/site-packages/torch/tensor.py\u001b[0m in \u001b[0;36mbackward\u001b[0;34m(self, gradient, retain_graph, create_graph)\u001b[0m\n\u001b[1;32m    196\u001b[0m                 \u001b[0mproducts\u001b[0m\u001b[0;34m.\u001b[0m \u001b[0mDefaults\u001b[0m \u001b[0mto\u001b[0m\u001b[0;31m \u001b[0m\u001b[0;31m`\u001b[0m\u001b[0;31m`\u001b[0m\u001b[0;32mFalse\u001b[0m\u001b[0;31m`\u001b[0m\u001b[0;31m`\u001b[0m\u001b[0;34m.\u001b[0m\u001b[0;34m\u001b[0m\u001b[0;34m\u001b[0m\u001b[0m\n\u001b[1;32m    197\u001b[0m         \"\"\"\n\u001b[0;32m--> 198\u001b[0;31m         \u001b[0mtorch\u001b[0m\u001b[0;34m.\u001b[0m\u001b[0mautograd\u001b[0m\u001b[0;34m.\u001b[0m\u001b[0mbackward\u001b[0m\u001b[0;34m(\u001b[0m\u001b[0mself\u001b[0m\u001b[0;34m,\u001b[0m \u001b[0mgradient\u001b[0m\u001b[0;34m,\u001b[0m \u001b[0mretain_graph\u001b[0m\u001b[0;34m,\u001b[0m \u001b[0mcreate_graph\u001b[0m\u001b[0;34m)\u001b[0m\u001b[0;34m\u001b[0m\u001b[0;34m\u001b[0m\u001b[0m\n\u001b[0m\u001b[1;32m    199\u001b[0m \u001b[0;34m\u001b[0m\u001b[0m\n\u001b[1;32m    200\u001b[0m     \u001b[0;32mdef\u001b[0m \u001b[0mregister_hook\u001b[0m\u001b[0;34m(\u001b[0m\u001b[0mself\u001b[0m\u001b[0;34m,\u001b[0m \u001b[0mhook\u001b[0m\u001b[0;34m)\u001b[0m\u001b[0;34m:\u001b[0m\u001b[0;34m\u001b[0m\u001b[0;34m\u001b[0m\u001b[0m\n",
      "\u001b[0;32m~/.local/lib/python3.8/site-packages/torch/autograd/__init__.py\u001b[0m in \u001b[0;36mbackward\u001b[0;34m(tensors, grad_tensors, retain_graph, create_graph, grad_variables)\u001b[0m\n\u001b[1;32m     96\u001b[0m         \u001b[0mretain_graph\u001b[0m \u001b[0;34m=\u001b[0m \u001b[0mcreate_graph\u001b[0m\u001b[0;34m\u001b[0m\u001b[0;34m\u001b[0m\u001b[0m\n\u001b[1;32m     97\u001b[0m \u001b[0;34m\u001b[0m\u001b[0m\n\u001b[0;32m---> 98\u001b[0;31m     Variable._execution_engine.run_backward(\n\u001b[0m\u001b[1;32m     99\u001b[0m         \u001b[0mtensors\u001b[0m\u001b[0;34m,\u001b[0m \u001b[0mgrad_tensors\u001b[0m\u001b[0;34m,\u001b[0m \u001b[0mretain_graph\u001b[0m\u001b[0;34m,\u001b[0m \u001b[0mcreate_graph\u001b[0m\u001b[0;34m,\u001b[0m\u001b[0;34m\u001b[0m\u001b[0;34m\u001b[0m\u001b[0m\n\u001b[1;32m    100\u001b[0m         allow_unreachable=True)  # allow_unreachable flag\n",
      "\u001b[0;31mKeyboardInterrupt\u001b[0m: "
     ]
    }
   ],
   "source": [
    "num_epochs = 100\n",
    "criterion = nn.MSELoss()\n",
    "optimizer = optim.SGD(net.parameters(), lr = 0.3, momentum=0.8, weight_decay=1e-07)\n",
    "scheduler = optim.lr_scheduler.StepLR(optimizer, step_size=1, gamma=0.93)\n",
    "\n",
    "training_loss, validation_loss, accuracy1, accuracy2 = [], [], [], []\n",
    "# Theshold for accuracy at around the market rate\n",
    "threshold1 = 0.05\n",
    "threshold2 = 0.10\n",
    "\n",
    "for i in range(num_epochs):\n",
    "\n",
    "    epoch_training_loss = 0\n",
    "    epoch_validation_loss = 0\n",
    "    total_num_corrects1 = 0\n",
    "    total_num_corrects2 = 0\n",
    "\n",
    "    np.random.shuffle(training)\n",
    "    \n",
    "    net.eval()\n",
    "    \n",
    "    for batch in validation:\n",
    "        target = batch[-1,:]\n",
    "        inputs = batch[:-1,:]\n",
    "\n",
    "        inputs = torch.Tensor(inputs).to(device)\n",
    "        inputs = inputs.reshape(1, inputs.size(0), in_features)\n",
    "        target = torch.Tensor(target).to(device)\n",
    "\n",
    "        outputs = net(inputs)\n",
    "\n",
    "        loss = criterion(outputs, target)\n",
    "        \n",
    "        epoch_validation_loss += loss.detach().cpu().numpy()\n",
    "\n",
    "        pred = (((outputs - target) >= -threshold1) & ((outputs - target) <= threshold1)).view_as(target)  # to make pred have same shape as target\n",
    "        num_correct = torch.sum(pred).item()/features\n",
    "        total_num_corrects1 += num_correct\n",
    "        pred = (((outputs - target) >= -threshold2) & ((outputs - target) <= threshold2)).view_as(target)  # to make pred have same shape as target\n",
    "        num_correct = torch.sum(pred).item()/features\n",
    "        total_num_corrects2 += num_correct\n",
    "    \n",
    "    net.train()\n",
    "    \n",
    "    for batch in training:\n",
    "        target = batch[-1,:]\n",
    "        inputs = batch[:-1,:]\n",
    "\n",
    "        inputs = torch.Tensor(inputs).to(device)\n",
    "        inputs = inputs.reshape(1, inputs.size(0), in_features)\n",
    "        target = torch.Tensor(target).to(device)\n",
    "        \n",
    "        outputs = net(inputs)\n",
    "        loss = criterion(outputs, target)\n",
    "        \n",
    "        optimizer.zero_grad()\n",
    "        loss.backward()\n",
    "        optimizer.step()\n",
    "        \n",
    "        epoch_training_loss += loss.detach().cpu().numpy()\n",
    "\n",
    "        \n",
    "    # Save loss for plot\n",
    "    training_loss.append(epoch_training_loss/len(training))\n",
    "    validation_loss.append(epoch_validation_loss/len(validation))\n",
    "\n",
    "    # Save accuracy for plot\n",
    "    accuracy1.append(total_num_corrects1/len(testing))\n",
    "    accuracy2.append(total_num_corrects2/len(testing))\n",
    "\n",
    "    scheduler.step()\n",
    "    # Print loss every 5 epochs\n",
    "    print('Epoch ' + str(i) + ', learning rate: ' + str(scheduler.get_last_lr()) + ', training loss: '+ str(training_loss[-1]) + ', validation loss: '+str(validation_loss[-1])+', 0.05 accuracy: '+str(accuracy1[-1])+', 0.10 accuracy: '+str(accuracy2[-1]))\n",
    "\n",
    "torch.save(net.state_dict(), 'gru2.pt')"
   ]
  },
  {
   "cell_type": "markdown",
   "metadata": {},
   "source": [
    "## Testing\n",
    "\n",
    "Finally the model is tested and graphs are printed to show how well the model performed during training"
   ]
  },
  {
   "cell_type": "code",
   "execution_count": 13,
   "metadata": {},
   "outputs": [
    {
     "name": "stdout",
     "output_type": "stream",
     "text": [
      "Test 0.05 accuracy is 0.9921\n",
      "Test 0.10 accuracy is 0.9993\n"
     ]
    }
   ],
   "source": [
    "net.load_state_dict(torch.load('lstm_simple.pt', map_location='cpu'))\n",
    "\n",
    "threshold1 = 0.05\n",
    "threshold2 = 0.10\n",
    "\n",
    "net.eval()\n",
    "\n",
    "total_num_corrects1 = 0\n",
    "total_num_corrects2 = 0\n",
    "correct1, correct2 = [], []\n",
    "\n",
    "for batch in testing:\n",
    "    target = batch[-1,:]\n",
    "    inputs = batch[:-1,:]\n",
    "\n",
    "    # Convert inputs to tensor\n",
    "    inputs = torch.Tensor(inputs).to(device)\n",
    "    inputs = inputs.reshape(1, inputs.size(0), in_features)\n",
    "\n",
    "    # Convert target to tensor\n",
    "    target = torch.Tensor(target).to(device)\n",
    "\n",
    "    # Forward pass\n",
    "    outputs = net.forward(inputs)\n",
    "    \n",
    "    # Prediction is compared to a threshold as 100 % accuracy is not needed\n",
    "    pred = (((outputs - target) >= -threshold1) & ((outputs - target) <= threshold1)).view_as(target)  # to make pred have same shape as target\n",
    "    num_correct = torch.sum(pred).item()\n",
    "    total_num_corrects1 += num_correct/in_features\n",
    "    correct1.append(num_correct)\n",
    "    pred = (((outputs - target) >= -threshold2) & ((outputs - target) <= threshold2)).view_as(target)  # to make pred have same shape as target\n",
    "    num_correct = torch.sum(pred).item()\n",
    "    total_num_corrects2 += num_correct/in_features\n",
    "    correct2.append(num_correct)\n",
    "\n",
    "print(f'Test 0.05 accuracy is {total_num_corrects1/len(testing):.4f}')\n",
    "print(f'Test 0.10 accuracy is {total_num_corrects2/len(testing):.4f}')"
   ]
  },
  {
   "cell_type": "code",
   "execution_count": 14,
   "metadata": {},
   "outputs": [
    {
     "name": "stdout",
     "output_type": "stream",
     "text": [
      "\n",
      "Input years:\n",
      "[[[-0.46 -0.71 -1.02 0.00 0.00 -0.71 -1.16 -0.67 0.71 -0.71 -0.43 -0.71\n",
      "   0.71 -0.71 0.71 -0.71]\n",
      "  [1.39 -0.71 -0.34 0.00 0.00 -0.71 1.28 -0.74 -1.41 -0.71 1.38 -0.71\n",
      "   0.71 -0.71 0.71 -0.71]]]\n",
      "\n",
      "Target year:\n",
      "[-0.93 1.41 1.36 0.00 0.00 1.41 -0.13 1.41 0.71 1.41 -0.95 1.41 -1.41 1.41\n",
      " -1.41 1.41]\n",
      "\n",
      "Output year:\n",
      "[-0.93 1.41 1.36 0.00 0.01 1.43 -0.13 1.41 0.71 1.42 -0.94 1.41 -1.42 1.41\n",
      " -1.41 1.42]\n"
     ]
    }
   ],
   "source": [
    "test = testing[0]\n",
    "\n",
    "target = batch[-1,:]\n",
    "inputs = batch[:-1,:]\n",
    "\n",
    "inputs = torch.Tensor(inputs)\n",
    "inputs = inputs.reshape(1, inputs.size(0), in_features)\n",
    "\n",
    "target = torch.Tensor(target)\n",
    "\n",
    "output = net.forward(inputs)\n",
    "\n",
    "print('\\nInput years:')\n",
    "print(inputs.data.numpy())\n",
    "print('\\nTarget year:')\n",
    "print(target.data.numpy())\n",
    "print('\\nOutput year:')\n",
    "print(output.data.numpy())"
   ]
  },
  {
   "cell_type": "code",
   "execution_count": 38,
   "metadata": {},
   "outputs": [
    {
     "data": {
      "image/png": "[encoded data removed]",
      "text/plain": [
       "<Figure size 864x216 with 2 Axes>"
      ]
     },
     "metadata": {
      "needs_background": "light"
     },
     "output_type": "display_data"
    }
   ],
   "source": [
    "fig, axes = plt.subplots(nrows=1, ncols=2, figsize=(12, 3))\n",
    "axes[0].hist(correct1, bins='auto')\n",
    "axes[0].set_xlabel('Number of correct hits'), axes[0].set_ylabel('Sequence')\n",
    "axes[1].hist(correct2, bins='auto')\n",
    "axes[1].set_xlabel('Number of correct hits'), axes[1].set_ylabel('Sequence')\n",
    "fig.tight_layout()"
   ]
  },
  {
   "cell_type": "code",
   "execution_count": 10,
   "metadata": {},
   "outputs": [
    {
     "data": {
      "image/png": "[encoded data removed]",
      "text/plain": [
       "<Figure size 432x288 with 1 Axes>"
      ]
     },
     "metadata": {
      "needs_background": "light"
     },
     "output_type": "display_data"
    }
   ],
   "source": [
    "epoch = np.arange(len(training_loss))\n",
    "plt.figure()\n",
    "plt.plot(epoch, accuracy1, 'g', label='Accuracy',)\n",
    "plt.plot(epoch, accuracy2, 'g', label='Accuracy',)\n",
    "plt.xlabel('Epoch'), plt.ylabel('Accuracy')\n",
    "plt.show()"
   ]
  },
  {
   "cell_type": "code",
   "execution_count": 11,
   "metadata": {},
   "outputs": [
    {
     "data": {
      "image/png": "[encoded data removed]",
      "text/plain": [
       "<Figure size 432x288 with 1 Axes>"
      ]
     },
     "metadata": {
      "needs_background": "light"
     },
     "output_type": "display_data"
    }
   ],
   "source": [
    "plt.figure()\n",
    "plt.plot(epoch, training_loss, 'r', label='Training loss',)\n",
    "plt.plot(epoch, validation_loss, 'b', label='Validation loss',)\n",
    "plt.legend()\n",
    "plt.xlabel('Epoch'), plt.ylabel('NLL')\n",
    "plt.show()"
   ]
  },
  {
   "cell_type": "markdown",
   "metadata": {},
   "source": [
    "## Optional predictor given model\n",
    "\n",
    "Sample of code to predict any given sequence of key numbers from annual reports that saves normalization such that the output can be transformed by using the mean and standard deviation used in normalization. The code is standalone and only requires the model saved. Change the variable 'x' with a new sequence and the model will predict the absolute values of the predicted next year. "
   ]
  },
  {
   "cell_type": "code",
   "execution_count": 9,
   "metadata": {},
   "outputs": [
    {
     "name": "stdout",
     "output_type": "stream",
     "text": [
      "[300501.30 0.00 162294.03 -2443.53 779937.36 493579.16 1302783.34\n",
      " 1415218.85 125501.32 -58.06 301647.90 426861.67 352618.11 980639.04\n",
      " 987679.31 1419453.54]\n"
     ]
    },
    {
     "name": "stderr",
     "output_type": "stream",
     "text": [
      "<ipython-input-9-7ddf77966605>:29: RuntimeWarning: invalid value encountered in true_divide\n",
      "  x /= np.std(x, axis = 0)\n"
     ]
    }
   ],
   "source": [
    "import torch\n",
    "import torch.nn as nn\n",
    "import torch.nn.functional as F\n",
    "from torch.autograd import Variable\n",
    "import numpy as np\n",
    "import csv\n",
    "import torch.optim as optim\n",
    "np.set_printoptions(suppress=True,formatter={'float_kind':'{:0.2f}'.format})\n",
    "\n",
    "device = torch.device('cuda' if torch.cuda.is_available() else 'cpu')\n",
    "\n",
    "features = 16\n",
    "\n",
    "x = [[ 1.680910e+05,0.000000e+00,1.251800e+05,2.064000e+04,3.419870e+05, 4.288100e+04,3.848680e+05,3.991820e+05,1.250000e+05, -1.138000e+03, 1.238620e+05,1.258160e+05,2.753200e+05,2.753200e+05,3.991820e+05, 0.000000e+00], [ 1.930280e+05,0.000000e+00,1.144320e+05,5.177230e+05,1.261570e+05, 6.730550e+05,6.755550e+05,1.250000e+05,0.000000e+00,1.390540e+05, 2.640540e+05,1.788260e+05,4.115010e+05,4.115010e+05,6.755550e+05, 0.000000e+00], [ 3.017540e+05,0.000000e+00,1.625940e+05,0.000000e+00,7.788220e+05, 4.957000e+05,1.303989e+06,1.413910e+06,1.250000e+05,0.000000e+00, 3.016490e+05,4.266490e+05,3.536870e+05,9.859640e+05,9.859640e+05, 1.413910e+06]]\n",
    "\n",
    "def conv(x):\n",
    "    conv1 = lambda i: i != 0 or False\n",
    "\n",
    "    identifier = []\n",
    "    for i in x:\n",
    "        identifier.append([conv1(j) for j in i])\n",
    "\n",
    "    x = np.asarray(x)\n",
    "\n",
    "    mean = np.mean(x, axis = 0)\n",
    "    std = np.std(x, axis = 0)\n",
    "\n",
    "    x -= np.mean(x, axis = 0)\n",
    "    x /= np.std(x, axis = 0)\n",
    "    x[np.isnan(x)] = 0.0\n",
    "\n",
    "    x = np.concatenate((x, np.asarray(identifier)), axis=1)\n",
    "\n",
    "    return x, mean, std\n",
    "\n",
    "in_features = features*2\n",
    "hidden_dim = 50\n",
    "out_features = features*2\n",
    "n_layers = 2\n",
    "\n",
    "class Net(nn.Module):\n",
    "    def __init__(self):\n",
    "        super(Net, self).__init__()\n",
    "\n",
    "        self.lstm = nn.LSTM(in_features, hidden_dim, num_layers = n_layers, batch_first = True)\n",
    "        # self.gru = nn.GRU(in_features, hidden_dim, num_layers = n_layers, batch_first = True)\n",
    "        self.l_out = nn.Linear(in_features = hidden_dim, out_features = out_features, bias = False)        \n",
    "\n",
    "    def forward(self, x):\n",
    "        h0 = torch.zeros(n_layers, 1, hidden_dim).to(device)\n",
    "        c0 = torch.zeros(n_layers, 1, hidden_dim).to(device)\n",
    "        x, _ = self.lstm(x, (h0,c0))\n",
    "        # x, _ = self.gru(x, h0)\n",
    "        x = x.view(-1, hidden_dim)\n",
    "        x = self.l_out(x)\n",
    "        return x[-1]\n",
    "\n",
    "net = Net().to(device)\n",
    "\n",
    "net.load_state_dict(torch.load('lstm_simple.pt', map_location='cpu'))\n",
    "\n",
    "net.eval()\n",
    "\n",
    "X, mean, std = conv(x)\n",
    "\n",
    "target = X[-1, :]\n",
    "inputs = X[:-1, :]\n",
    "\n",
    "inputs = torch.Tensor(inputs)\n",
    "inputs = inputs.reshape(1, inputs.size(0), in_features)\n",
    "\n",
    "target = torch.Tensor(target)\n",
    "\n",
    "outputs = net.forward(inputs)\n",
    "\n",
    "print((outputs.detach().cpu().numpy()[:16] * std) + mean)"
   ]
  },
  {
   "cell_type": "code",
   "execution_count": null,
   "metadata": {},
   "outputs": [],
   "source": []
  }
 ],
 "metadata": {
  "kernelspec": {
   "display_name": "Python 3",
   "language": "python",
   "name": "python3"
  },
  "language_info": {
   "codemirror_mode": {
    "name": "ipython",
    "version": 3
   },
   "file_extension": ".py",
   "mimetype": "text/x-python",
   "name": "python",
   "nbconvert_exporter": "python",
   "pygments_lexer": "ipython3",
   "version": "3.8.3"
  }
 },
 "nbformat": 4,
 "nbformat_minor": 4
}
